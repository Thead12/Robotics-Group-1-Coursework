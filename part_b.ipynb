{
 "cells": [
  {
   "cell_type": "code",
   "execution_count": 1,
   "id": "591a283f",
   "metadata": {},
   "outputs": [],
   "source": [
    "import numpy as np\n",
    "import time\n",
    "import motors"
   ]
  },
  {
   "cell_type": "code",
   "execution_count": 23,
   "id": "5e641892-05ff-48ea-b4a8-13e1438d54f4",
   "metadata": {},
   "outputs": [],
   "source": [
    "class SpringFollower:\n",
    "    def __init__(self, speed=0.5, k=10.0, b=6.0, rest_length=0.5, dt=0.02):\n",
    "        self.speed = speed\n",
    "        self.motors = motors.MotorsYukon(mecanum=False)\n",
    "                                         \n",
    "        self.k = k\n",
    "        self.b = b\n",
    "        self.l0 = rest_length\n",
    "        self.dt = dt\n",
    "\n",
    "        self.vel = np.array([0.0, 0.0])\n",
    "        self._origin = np.array([0.0, 0.0])\n",
    "\n",
    "    def human_position(self, r, theta):\n",
    "        x = r * np.cos(theta)\n",
    "        y = r * np.sin(theta)\n",
    "        return np.array([x, y])\n",
    "\n",
    "    def update(self, human_position):\n",
    "        distance = human_position[0]\n",
    "        angle = human_position[1]\n",
    "        \n",
    "        ph = self.human_position(human_position[0], human_position[1])\n",
    "        diff = ph - self._origin\n",
    "        dist = np.linalg.norm(diff)\n",
    "\n",
    "        if dist > 1e-6:\n",
    "            vel_spring = (self.k / self.b) * (1 - self.l0 / dist) * diff\n",
    "        else:\n",
    "            vel_spring = np.zeros(2)\n",
    "\n",
    "        self.vel = vel_spring / self.b\n",
    "        self.pos += self.vel * self.dt\n",
    "        return self.vel\n",
    "\n",
    "    def drive(self, angle, speed):\n",
    "        # max angle is 90 degrees\n",
    "        # at -90 and 90 degrees wheel multiplier should be 0 for corresponding side\n",
    "        # as robot is turning theta decreeses\n",
    "        temp = angle\n",
    "        np.clip(temp, 1, 1)\n",
    "        \n",
    "        turning = np.cos(angle)\n",
    "        \n",
    "        print(\"Turning: \", turning)\n",
    "        if angle > 0:\n",
    "            print(\"turning right\")\n",
    "            self.motors.frontLeft(speed=self.speed)\n",
    "            self.motors.backLeft(speed=self.speed)\n",
    "\n",
    "            turning_speed = turning*self.speed\n",
    "            self.motors.frontRight(speed=turning_speed)\n",
    "            self.motors.backRight(speed=turning_speed)\n",
    "\n",
    "        elif angle < 0:\n",
    "            \n",
    "            print(\"turning left\")\n",
    "\n",
    "            self.motors.frontLeft(speed=turning_speed)\n",
    "            self.motors.backLeft(speed=turning_speed)\n",
    "\n",
    "            turning_speed = turning*self.speed\n",
    "            self.motors.frontRight(speed=self.speed)\n",
    "            self.motors.backRight(speed=self.speed)\n",
    "\n",
    "        else:\n",
    "            self.motors.frontLeft(speed=self.speed)\n",
    "            self.motors.backLeft(speed=self.speed)\n",
    "\n",
    "            turning_speed = turning*self.speed\n",
    "            self.motors.frontRight(speed=self.speed)\n",
    "            self.motors.backRight(speed=self.speed)\n",
    "\n",
    "\n",
    "    def move(self, vel):\n",
    "        theta = np.angle(vel)\n",
    "\n",
    "        #while \n",
    "        #if theta > 0:\n",
    "            \n",
    "        \n",
    "        "
   ]
  },
  {
   "cell_type": "code",
   "execution_count": 24,
   "id": "4c88c9e2",
   "metadata": {},
   "outputs": [],
   "source": [
    "follower = SpringFollower()"
   ]
  },
  {
   "cell_type": "code",
   "execution_count": 28,
   "id": "d9acf0af-1ec7-4650-8926-b10d0c5c839e",
   "metadata": {},
   "outputs": [
    {
     "name": "stdout",
     "output_type": "stream",
     "text": [
      "Turning:  6.123233995736766e-17\n",
      "turning right\n"
     ]
    }
   ],
   "source": [
    "angle = np.pi/2\n",
    "follower.drive(angle, 0)\n",
    "\n",
    "time.sleep(5)\n",
    "\n",
    "follower.motors.stop()"
   ]
  },
  {
   "cell_type": "code",
   "execution_count": null,
   "id": "3d92b4f2",
   "metadata": {},
   "outputs": [],
   "source": [
    "while True:\n",
    "    # get sensor information\n",
    "    human_position = get_position() # vector of (distance, angle)\n",
    "    \n",
    "    # decide heading\n",
    "    vel = robot.update(human_position) # vector of (vx, vy)\n",
    "    \n",
    "    # tell the motors\n",
    "    robot.move(vel)"
   ]
  }
 ],
 "metadata": {
  "kernelspec": {
   "display_name": "Python 3 (ipykernel)",
   "language": "python",
   "name": "python3"
  },
  "language_info": {
   "codemirror_mode": {
    "name": "ipython",
    "version": 3
   },
   "file_extension": ".py",
   "mimetype": "text/x-python",
   "name": "python",
   "nbconvert_exporter": "python",
   "pygments_lexer": "ipython3",
   "version": "3.10.12"
  }
 },
 "nbformat": 4,
 "nbformat_minor": 5
}
