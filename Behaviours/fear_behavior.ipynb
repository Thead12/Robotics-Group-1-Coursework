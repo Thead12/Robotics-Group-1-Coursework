{
 "cells": [
  {
   "cell_type": "markdown",
   "metadata": {},
   "source": [
    "# Fear Behavior Implementation"
   ]
  },
  {
   "cell_type": "markdown",
   "metadata": {},
   "source": [
    "**Step 1: Create display widgets**"
   ]
  },
  {
   "cell_type": "code",
   "execution_count": null,
   "metadata": {},
   "outputs": [],
   "source": [
    "import ipywidgets.widgets as widgets\n",
    "from IPython.display import display, HTML\n",
    "import sys\n",
    "\n",
    "#create widgets for the displaying of the image\n",
    "display_color = widgets.Image(format='jpeg', width='30%')\n",
    "display_depth = widgets.Image(format='jpeg', width='30%')\n",
    "layout=widgets.Layout(width='100%')\n",
    "\n",
    "sidebyside = widgets.HBox([display_color, display_depth],layout=layout)\n",
    "display(sidebyside)"
   ]
  },
  {
   "cell_type": "markdown",
   "metadata": {},
   "source": [
    "**Step 2: Initialize camera and implement fear behavior**\n",
    "\n",
    "The robot will retreat at different speeds based on detected obstacle distance:\n",
    "- < 500mm: Fast retreat (speed 0.6)\n",
    "- < 900mm: Medium retreat (speed 0.4)\n",
    "- < 1300mm: Slow retreat (speed 0.2)\n",
    "- >= 1300mm: Stop (safe distance)"
   ]
  },
  {
   "cell_type": "code",
   "execution_count": null,
   "metadata": {},
   "outputs": [],
   "source": [
    "import cv2\n",
    "import numpy as np\n",
    "import pyzed.sl as sl\n",
    "import math\n",
    "import threading\n",
    "import time\n",
    "import motors\n",
    "\n",
    "#initialize the Robot class\n",
    "robot = motors.MotorsYukon(mecanum=False)\n",
    "\n",
    "class Camera():\n",
    "    def __init__(self):\n",
    "        super(Camera, self).__init__()\n",
    "\n",
    "        self.zed = sl.Camera()\n",
    "        init_params = sl.InitParameters()\n",
    "        init_params.camera_resolution = sl.RESOLUTION.VGA\n",
    "        init_params.depth_mode = sl.DEPTH_MODE.ULTRA\n",
    "        init_params.coordinate_units = sl.UNIT.MILLIMETER\n",
    "\n",
    "        status = self.zed.open(init_params)\n",
    "        if status != sl.ERROR_CODE.SUCCESS:\n",
    "            print(\"Camera Open : \"+repr(status)+\". Exit program.\")\n",
    "            self.zed.close()\n",
    "            exit(1)\n",
    "\n",
    "        self.runtime = sl.RuntimeParameters()\n",
    "        self.thread_runnning_flag = False\n",
    "\n",
    "        camera_info = self.zed.get_camera_information()\n",
    "        self.width = camera_info.camera_configuration.resolution.width\n",
    "        self.height = camera_info.camera_configuration.resolution.height\n",
    "        self.image = sl.Mat(self.width,self.height,sl.MAT_TYPE.U8_C4, sl.MEM.CPU)\n",
    "        self.depth = sl.Mat(self.width,self.height,sl.MAT_TYPE.F32_C1, sl.MEM.CPU)\n",
    "        self.point_cloud = sl.Mat(self.width,self.height,sl.MAT_TYPE.F32_C4, sl.MEM.CPU) \n",
    "\n",
    "    def _capture_frames(self):\n",
    "\n",
    "        while(self.thread_runnning_flag==True):\n",
    "           \n",
    "            if self.zed.grab(self.runtime) == sl.ERROR_CODE.SUCCESS:\n",
    "                \n",
    "                self.zed.retrieve_image(self.image, sl.VIEW.LEFT)\n",
    "                self.zed.retrieve_measure(self.depth, sl.MEASURE.DEPTH)\n",
    "    \n",
    "                self.color_value = self.image.get_data()\n",
    "                scale = 0.1\n",
    "                resized_image = cv2.resize(self.color_value, None, fx=scale, fy=scale, interpolation=cv2.INTER_AREA)\n",
    "                cv2.circle(resized_image, (int(self.width*scale//2),int(self.height*scale//2)), 1, (0, 255, 0))\n",
    "                display_color.value = bgr8_to_jpeg(resized_image)\n",
    "                \n",
    "                self.depth_image = np.asanyarray(self.depth.get_data())\n",
    "\n",
    "                depth_image_test = self.depth_image.copy()\n",
    "                depth_image_test = np.nan_to_num(depth_image_test, nan=0.0).astype(np.float32)\n",
    "                \n",
    "                # Define region of interest - ignore edges and ground\n",
    "                depth_image_test[:120,:] = 0    # Remove top\n",
    "                depth_image_test[250:,:] = 0    # Remove bottom (ground/robot body)\n",
    "                depth_image_test[:,:200] = 0    # Remove left\n",
    "                depth_image_test[:,472:] = 0    # Remove right\n",
    "\n",
    "                # Filter depth values\n",
    "                depth_image_test[depth_image_test < 300] = 0    # Ignore very close (robot body)\n",
    "                depth_image_test[depth_image_test > 1500] = 0   # Reduce max range\n",
    "                \n",
    "                depth_colormap = cv2.applyColorMap(cv2.convertScaleAbs(depth_image_test, alpha=0.03), cv2.COLORMAP_JET)\n",
    "                \n",
    "                if(depth_image_test.max() == 0):\n",
    "                    robot.stop()\n",
    "                    cv2.putText(depth_colormap, 'SAFE - No threat', (150,188), cv2.FONT_HERSHEY_SIMPLEX, 0.5, (0, 255, 0), 2, cv2.LINE_AA)\n",
    "                    print('SAFE - No threat detected', end='\\r')\n",
    "                else:\n",
    "                    distance = depth_image_test[depth_image_test!=0].min()\n",
    "                    \n",
    "                    # FEAR BEHAVIOR - graduated response based on distance\n",
    "                    if(distance < 500):\n",
    "                        robot.backward(0.6)\n",
    "                        cv2.putText(depth_colormap, f'DANGER {distance:.0f}mm', (150,188), cv2.FONT_HERSHEY_SIMPLEX, 0.5, (0, 0, 255), 2, cv2.LINE_AA)\n",
    "                        print(f'DANGER {distance:.0f}mm - Fast retreat', end='\\r')\n",
    "                    elif(distance < 900):\n",
    "                        robot.backward(0.4)\n",
    "                        cv2.putText(depth_colormap, f'CAUTION {distance:.0f}mm', (150,188), cv2.FONT_HERSHEY_SIMPLEX, 0.5, (0, 165, 255), 2, cv2.LINE_AA)\n",
    "                        print(f'CAUTION {distance:.0f}mm - Medium retreat', end='\\r')\n",
    "                    elif(distance < 1300):\n",
    "                        robot.backward(0.2)\n",
    "                        cv2.putText(depth_colormap, f'ALERT {distance:.0f}mm', (150,188), cv2.FONT_HERSHEY_SIMPLEX, 0.5, (0, 255, 255), 2, cv2.LINE_AA)\n",
    "                        print(f'ALERT {distance:.0f}mm - Slow retreat', end='\\r')\n",
    "                    else:\n",
    "                        robot.stop()\n",
    "                        cv2.putText(depth_colormap, f'SAFE {distance:.0f}mm', (150,188), cv2.FONT_HERSHEY_SIMPLEX, 0.5, (0, 255, 0), 2, cv2.LINE_AA)\n",
    "                        print(f'SAFE {distance:.0f}mm', end='\\r')\n",
    "                    \n",
    "                resized_depth_colormap=cv2.resize(depth_colormap, None, fx=scale, fy=scale, interpolation=cv2.INTER_AREA)\n",
    "                display_depth.value = bgr8_to_jpeg(resized_depth_colormap)\n",
    "                \n",
    "    def start(self):\n",
    "        if self.thread_runnning_flag == False:\n",
    "            self.thread_runnning_flag=True\n",
    "            self.thread = threading.Thread(target=self._capture_frames)\n",
    "            self.thread.start()\n",
    "\n",
    "    def stop(self):\n",
    "        if self.thread_runnning_flag == True:\n",
    "            self.thread_runnning_flag = False\n",
    "            self.thread.join()\n",
    "            robot.stop()\n",
    "\n",
    "def bgr8_to_jpeg(value):\n",
    "    return bytes(cv2.imencode('.jpg',value)[1])\n",
    "\n",
    "camera = Camera()\n",
    "camera.start()"
   ]
  },
  {
   "cell_type": "markdown",
   "metadata": {},
   "source": [
    "**To stop the camera and robot:**"
   ]
  },
  {
   "cell_type": "code",
   "execution_count": null,
   "metadata": {},
   "outputs": [],
   "source": [
    "camera.stop()"
   ]
  }
 ],
 "metadata": {
  "kernelspec": {
   "display_name": "Python 3 (ipykernel)",
   "language": "python",
   "name": "python3"
  },
  "language_info": {
   "codemirror_mode": {
    "name": "ipython",
    "version": 3
   },
   "file_extension": ".py",
   "mimetype": "text/x-python",
   "name": "python",
   "nbconvert_exporter": "python",
   "pygments_lexer": "ipython3",
   "version": "3.10.12"
  }
 },
 "nbformat": 4,
 "nbformat_minor": 4
}
