{
 "cells": [
  {
   "cell_type": "code",
   "execution_count": 1,
   "id": "initial_id",
   "metadata": {
    "ExecuteTime": {
     "end_time": "2025-10-29T23:24:52.026648Z",
     "start_time": "2025-10-29T23:24:50.583134Z"
    }
   },
   "outputs": [],
   "source": [
    "import cv2\n",
    "from ultralytics import YOLO\n",
    "from IPython.display import display, clear_output\n",
    "from PIL import Image\n",
    "import IPython.display as display_utils"
   ]
  },
  {
   "cell_type": "code",
   "execution_count": 2,
   "id": "fff95280ba4fde17",
   "metadata": {
    "ExecuteTime": {
     "end_time": "2025-10-29T23:24:55.268891Z",
     "start_time": "2025-10-29T23:24:52.042284Z"
    }
   },
   "outputs": [],
   "source": [
    "# Load YOLOv8 pose model\n",
    "model = YOLO(\"yolov8n-pose.pt\")\n",
    "\n",
    "# Open webcam\n",
    "cap = cv2.VideoCapture(0)"
   ]
  },
  {
   "cell_type": "code",
   "execution_count": 3,
   "id": "181b8342bb35eb46",
   "metadata": {
    "jupyter": {
     "is_executing": true
    }
   },
   "outputs": [
    {
     "name": "stdout",
     "output_type": "stream",
     "text": [
      "Stream stopped.\n"
     ]
    }
   ],
   "source": [
    "try:\n",
    "    while True:\n",
    "        ok, frame = cap.read()\n",
    "        if not ok:\n",
    "            break\n",
    "\n",
    "        # Run pose detection\n",
    "        results = model(frame, verbose=False)\n",
    "        annotated = results[0].plot()\n",
    "\n",
    "        # Convert BGR (OpenCV) -> RGB (for Jupyter display)\n",
    "        annotated_rgb = cv2.cvtColor(annotated, cv2.COLOR_BGR2RGB)\n",
    "        img = Image.fromarray(annotated_rgb)\n",
    "\n",
    "        # Clear and update frame in notebook\n",
    "        clear_output(wait=True)\n",
    "        display_utils.display(img)\n",
    "\n",
    "except KeyboardInterrupt:\n",
    "    # Stop when you press the stop button\n",
    "    pass\n",
    "\n",
    "finally:\n",
    "    cap.release()\n",
    "    clear_output()\n",
    "    print(\"Stream stopped.\")"
   ]
  }
 ],
 "metadata": {
  "kernelspec": {
   "display_name": "Python 3 (ipykernel)",
   "language": "python",
   "name": "python3"
  },
  "language_info": {
   "codemirror_mode": {
    "name": "ipython",
    "version": 3
   },
   "file_extension": ".py",
   "mimetype": "text/x-python",
   "name": "python",
   "nbconvert_exporter": "python",
   "pygments_lexer": "ipython3",
   "version": "3.11.9"
  }
 },
 "nbformat": 4,
 "nbformat_minor": 5
}
